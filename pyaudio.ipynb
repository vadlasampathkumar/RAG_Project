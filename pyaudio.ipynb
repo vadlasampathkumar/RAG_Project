{
 "cells": [
  {
   "cell_type": "code",
   "execution_count": null,
   "id": "a9947bff-2e45-4399-a8e3-20f77794dd35",
   "metadata": {},
   "outputs": [],
   "source": [
    "#!pip install pyaudio\n"
   ]
  },
  {
   "cell_type": "code",
   "execution_count": 1,
   "id": "78edfe98-4406-4ee8-a73b-3df08e75b732",
   "metadata": {},
   "outputs": [
    {
     "name": "stdout",
     "output_type": "stream",
     "text": [
      "Speak now...\n",
      "You said: hello namaste\n"
     ]
    }
   ],
   "source": [
    "import speech_recognition as sr\n",
    "\n",
    "# Initialize recognizer\n",
    "r = sr.Recognizer()\n",
    "\n",
    "# Use microphone\n",
    "with sr.Microphone() as source:\n",
    "    print(\"Speak now...\")\n",
    "    audio = r.listen(source)\n",
    "text = r.recognize_google(audio)\n",
    "print(\"You said:\", text)\n"
   ]
  },
  {
   "cell_type": "code",
   "execution_count": null,
   "id": "b315a2cc-2e76-4285-b06c-b205654fb69a",
   "metadata": {},
   "outputs": [],
   "source": [
    "#!pip install deep-translator\n"
   ]
  },
  {
   "cell_type": "code",
   "execution_count": 2,
   "id": "f296e589-48cc-459e-a90d-6c637882ce3a",
   "metadata": {},
   "outputs": [
    {
     "name": "stdout",
     "output_type": "stream",
     "text": [
      "Telugu: హే అబ్బాయిలు నా పేరు వడ్లా సంపత్ కుమార్.\n",
      "English: Hey guys my name is Vadla Sampath Kumar.\n"
     ]
    }
   ],
   "source": [
    "from deep_translator import GoogleTranslator\n",
    "\n",
    "# Translate English to Telugu\n",
    "text = \"Hey Guys My name is Vadla Sampath Kumar.\"\n",
    "translated = GoogleTranslator(source='en', target='te').translate(text)\n",
    "print(\"Telugu:\", translated)\n",
    "\n",
    "# Translate Telugu to English\n",
    "back = GoogleTranslator(source='te', target='en').translate(translated)\n",
    "print(\"English:\", back)\n"
   ]
  },
  {
   "cell_type": "code",
   "execution_count": null,
   "id": "46485a51-2de4-42b2-adb6-a77bfefd1b57",
   "metadata": {},
   "outputs": [],
   "source": []
  }
 ],
 "metadata": {
  "kernelspec": {
   "display_name": "Python [conda env:base] *",
   "language": "python",
   "name": "conda-base-py"
  },
  "language_info": {
   "codemirror_mode": {
    "name": "ipython",
    "version": 3
   },
   "file_extension": ".py",
   "mimetype": "text/x-python",
   "name": "python",
   "nbconvert_exporter": "python",
   "pygments_lexer": "ipython3",
   "version": "3.12.7"
  }
 },
 "nbformat": 4,
 "nbformat_minor": 5
}
